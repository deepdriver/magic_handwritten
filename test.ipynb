{
 "cells": [
  {
   "cell_type": "code",
   "execution_count": 37,
   "metadata": {},
   "outputs": [
    {
     "data": {
      "image/png": "[encoded data removed]",
      "text/plain": [
       "<matplotlib.figure.Figure at 0x11631c908>"
      ]
     },
     "metadata": {},
     "output_type": "display_data"
    },
    {
     "data": {
      "text/plain": [
       "1"
      ]
     },
     "execution_count": 37,
     "metadata": {},
     "output_type": "execute_result"
    }
   ],
   "source": [
    "import cv2\n",
    "import matplotlib.pyplot as plt\n",
    "import numpy as np\n",
    "\n",
    "data = np.ndarray(shape=[1,28,28,1])\n",
    "img = cv2.imread('samples/2.jpg', cv2.IMREAD_GRAYSCALE)\n",
    "img = cv2.resize(img, (28, 28), interpolation=cv2.INTER_AREA)\n",
    "plt.imshow(img, cmap=\"gray\")\n",
    "plt.show()\n",
    "data[0,:,:,0] = img\n",
    "np.argmax([0,1,0,0])"
   ]
  },
  {
   "cell_type": "code",
   "execution_count": null,
   "metadata": {},
   "outputs": [],
   "source": [
    "def fake_data(num_images):\n",
    "    \"\"\"Generate a fake dataset that matches the dimensions of MNIST.\"\"\"\n",
    "    data = numpy.ndarray(\n",
    "        shape=(num_images, IMAGE_SIZE, IMAGE_SIZE, NUM_CHANNELS),\n",
    "        dtype=numpy.float32)\n",
    "    labels = numpy.zeros(shape=(num_images,), dtype=numpy.int64)\n",
    "    for image in xrange(num_images):\n",
    "        label = image % 2\n",
    "        data[image, :, :, 0] = label - 0.5\n",
    "        labels[image] = label\n",
    "    return data, labels\n"
   ]
  }
 ],
 "metadata": {
  "kernelspec": {
   "display_name": "Python 3",
   "language": "python",
   "name": "python3"
  },
  "language_info": {
   "codemirror_mode": {
    "name": "ipython",
    "version": 3
   },
   "file_extension": ".py",
   "mimetype": "text/x-python",
   "name": "python",
   "nbconvert_exporter": "python",
   "pygments_lexer": "ipython3",
   "version": "3.6.3"
  }
 },
 "nbformat": 4,
 "nbformat_minor": 2
}
